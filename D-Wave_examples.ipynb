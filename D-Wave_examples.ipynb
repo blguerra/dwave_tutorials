{
 "cells": [
  {
   "cell_type": "markdown",
   "metadata": {},
   "source": [
    "# Using a D-Wave System\n",
    "\n",
    "\n",
    "\n",
    "\n",
    "Important Links: \n",
    "- [Using a D-Wave System](https://docs.ocean.dwavesys.com/en/latest/overview/dwavesys.html#dwavesys)\n",
    "- [D-wave Handbook](https://docs.dwavesys.com/docs/latest/doc_getting_started.html)\n",
    "\n"
   ]
  },
  {
   "cell_type": "markdown",
   "metadata": {},
   "source": [
    "# Embedding a NOT gate on D-wave\n",
    "## Formulating the problem as a Binary Quadratic Model(BQM)\n",
    "\n",
    "Given M binary variables the system try to find a values that minimize the following equation:\n",
    "\n",
    "\\begin{equation}\n",
    "\\sum_i q_i x_i + \\sum_{i<j} q_{i,j} x_i x_j\n",
    "\\end{equation}\n",
    "\n",
    "For this we represent a NOT gate by the following penalty function, where x is the input and z the output:\n",
    "\n",
    "\\begin{equation}\n",
    "P(x,z) = 2xz−x−z+1\n",
    "\\end{equation}\n",
    "\n",
    "The penalty function method is used to rule out the following configurations: $0 \\rightarrow 0$ and $1 \\rightarrow 1$ . The penalty function P have a valid configuration only when $P = 0$.\n",
    "\n",
    "Now we need to construct a QUBO for this model, for this we only drop the constant term, if there were higher order terms we would need to reformulate the problem as quadratic, in this problem that will not be necessary. So the QUBO for this model is:\n",
    "\n",
    "\\begin{equation}\n",
    "E(x_1,x_2) = - x_1 - x_2 + 2 x_1 x_2\n",
    "\\end{equation}\n",
    "\n",
    "So we have that $x_1 = x$ is the input, $x_2 = z$ is the output, and the linear coefficients are $q_1 = q_2 = -1$ and quadratic coefficients are $q_{1,2} = 2$.\n",
    "\n",
    "Now the only thing that is left to do is the minor embedding for this QUBO configuration. So we will use `EmbeddingComposite` on the `dwave.system` to do this."
   ]
  },
  {
   "cell_type": "code",
   "execution_count": null,
   "metadata": {},
   "outputs": [],
   "source": [
    "from dwave.system.samplers import DWaveSampler\n",
    "from dwave.system.composites import EmbeddingComposite\n",
    "sampler = EmbeddingComposite(DWaveSampler(endpoint='https://URL_to_my_D-Wave_system/', \n",
    "                                          token='ABC-123456789012345678901234567890', \n",
    "                                          solver='My_D-Wave_Solver'))"
   ]
  },
  {
   "cell_type": "code",
   "execution_count": null,
   "metadata": {},
   "outputs": [],
   "source": [
    "Q = {('x', 'x'): -1, ('x', 'z'): 2, ('z', 'x'): 0, ('z', 'z'): -1}\n",
    "response = sampler.sample_qubo(Q, num_reads=5000)\n",
    "for datum in response.data(['sample', 'energy', 'num_occurrences']):   \n",
    "   print(datum.sample, \"Energy: \", datum.energy, \"Occurrences: \", datum.num_occurrences)"
   ]
  },
  {
   "cell_type": "markdown",
   "metadata": {},
   "source": [
    "# Embedding a AND gate on D-wave\n",
    "D-wave does not support natively $K_3$ graphs, so you can not implement a AND gate. In order to do this you have to represent as a penalty model:\n",
    "\\begin{equation}\n",
    "x_1 x_2 \\ -2 (x_1 \\ + x_2)x_3 + 3 x_3 \n",
    "\\end{equation}\n",
    "\n",
    "This penalty model can in turn be represented as the QUBO,\n",
    "\n",
    "\\begin{equation}\n",
    "E(a_i,b_i;x_i) = 3 x_3 + x_1 x_2 - 2 x_1 x_3 - 2 x_2 x_3\n",
    "\\end{equation}\n",
    "\n",
    "which is a fully connected $K_3$ graph.\n",
    "\n",
    "So we have that $x_1, x_2$ are the input, $x_3$ is the output, and the linear coefficients are $q_1 = 3$ and quadratic coefficients are $q_{1,2} = 1$, $q_{1,3} = -2$ and $q_{2,3} = -2$. We do the same as we did for the NOT gate."
   ]
  },
  {
   "cell_type": "code",
   "execution_count": null,
   "metadata": {},
   "outputs": [],
   "source": [
    "from dwave.system.samplers import DWaveSampler\n",
    "from dwave.system.composites import EmbeddingComposite\n",
    "sampler = DWaveSampler(endpoint='https://URL_to_my_D-Wave_system/', token='ABC-123456789012345678901234567890', solver='My_D-Wave_Solver')\n",
    "sampler_embedded = EmbeddingComposite(sampler)"
   ]
  },
  {
   "cell_type": "code",
   "execution_count": null,
   "metadata": {},
   "outputs": [],
   "source": [
    "Q = {('x1', 'x2'): 1, ('x1', 'z'): -2, ('x2', 'z'): -2, ('z', 'z'): 3}\n",
    "response = sampler_embedded.sample_qubo(Q, num_reads=5000)\n",
    "for datum in response.data(['sample', 'energy', 'num_occurrences']):   \n",
    "   print(datum.sample, \"Energy: \", datum.energy, \"Occurrences: \", datum.num_occurrences)"
   ]
  },
  {
   "cell_type": "markdown",
   "metadata": {},
   "source": [
    "# Map Coloring"
   ]
  },
  {
   "cell_type": "code",
   "execution_count": null,
   "metadata": {},
   "outputs": [],
   "source": [
    "import networkx as nx\n",
    "G = nx.read_adjlist('usa.adj', delimiter = ',')  "
   ]
  },
  {
   "cell_type": "code",
   "execution_count": null,
   "metadata": {},
   "outputs": [],
   "source": [
    "import dwave_networkx as dnx\n",
    "from hybrid.reference.kerberos import KerberosSampler\n",
    "coloring = dnx.min_vertex_coloring(G, sampler=KerberosSampler(), chromatic_ub=4, max_iter=10, convergence=3)\n",
    "print(set(coloring.values()))"
   ]
  },
  {
   "cell_type": "code",
   "execution_count": null,
   "metadata": {},
   "outputs": [],
   "source": [
    "import matplotlib.pyplot as plt\n",
    "node_colors = [coloring.get(node) for node in G.nodes()]\n",
    "if dnx.is_vertex_coloring(G, coloring):  # adjust the next line if using a different map\n",
    "   nx.draw(G, pos=nx.shell_layout(G, nlist = [list(G.nodes)[x:x+10] for x in range(0, 50, 10)] + [[list(G.nodes)[50]]]), with_labels=True, node_color=node_colors, node_size=400, cmap=plt.cm.rainbow)\n",
    "plt.show()"
   ]
  }
 ],
 "metadata": {
  "kernelspec": {
   "display_name": ".Dwave",
   "language": "python",
   "name": ".dwave"
  },
  "language_info": {
   "codemirror_mode": {
    "name": "ipython",
    "version": 3
   },
   "file_extension": ".py",
   "mimetype": "text/x-python",
   "name": "python",
   "nbconvert_exporter": "python",
   "pygments_lexer": "ipython3",
   "version": "3.6.8"
  }
 },
 "nbformat": 4,
 "nbformat_minor": 2
}
