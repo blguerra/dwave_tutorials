{
 "cells": [
  {
   "cell_type": "markdown",
   "metadata": {},
   "source": [
    "# A quick tour of DWave Ocean\n",
    "\n",
    "In this first notebook we introduce some of the main tools in the Ocean library for programming the Dwave quantum computer. We start with a (very) brief discussion of quantum annealing then move on to introduce two important modules of the Ocean library: the dimod and minorminer modules. At the end of the notebook, useful references that dive deeper in the topics discussed here are presented. "
   ]
  },
  {
   "cell_type": "markdown",
   "metadata": {},
   "source": [
    "## Quantum Annealing\n",
    "\n",
    "The idea behind Quantum Annealing is to map an optimization problem to a Hamiltonian on an Ising lattice of the form\n",
    "\n",
    "\\begin{equation}\n",
    "H(\\mathbf{\\sigma}) = -\\sum J_{ij}\\sigma_{i}\\sigma_{j} - \\sum h_i\\sigma_i, \\quad \\sigma_i = \\pm 1.\n",
    "\\end{equation}\n",
    "\n",
    "Finding the minimum energy of a general Ising lattice Hamiltonian such as the one above consists in determining the set of $\\sigma_i$s that minimize the Hamiltonian $H$. Thus problem is known to be [NP-hard](https://en.wikipedia.org/wiki/NP-hardness). In the mathematical optimization community, discrete unconstrained optimization problems formulated in terms of Ising Hamiltonians are known as Quadratic Unconstrained Optimization problems, or [QUBOs](https://en.wikipedia.org/wiki/Quadratic_unconstrained_binary_optimization).\n",
    "\n",
    "Mapping a real world problem into an Ising lattice to be optimized in a DWave computer poses two main theoretical challenges:\n",
    "\n",
    "- 1. Finding the proper $J$ matrix and $\\mathbf{h}$ vector (Energy program);\n",
    "- 2. Connecting the qubits in the DWave hardware to produce $J$ and $\\mathbf{h}$ (Minor embedding).\n",
    "\n",
    "These two steps appear in the general workflow of quantum adiabatic computation dpicted in the nice picture from the paper <a href= \"https://journals.plos.org/plosone/article?id=10.1371/journal.pone.0208561\"><i>Open source software in quantum computing</i></a> by Fingerhuth, Babej and Wittek.\n",
    "\n",
    "<img src=\"dwave_workflow.png\" >\n",
    "\n",
    "\n"
   ]
  },
  {
   "cell_type": "markdown",
   "metadata": {},
   "source": [
    "In this first notebook we shall not be very interested in the nasty details of the theory behind quantum annealers as much as in getting our hands dirty with the Python [Ocean](https://docs.ocean.dwavesys.com) library. In particular we shall focus on two key components of the Ocean suite: the `dimod` and the `minorminer` modules."
   ]
  },
  {
   "cell_type": "markdown",
   "metadata": {},
   "source": [
    "## The dimod module\n",
    "\n",
    "The [dimod](https://docs.ocean.dwavesys.com/projects/dimod/en/latest/index.html) module is the Ocean API for modelling binary quadratic optimization problems. It supports both Ising optimization (where $\\sigma_i = \\pm 1$) and QUBOs (where $q_i = 0,1$). Let us start with the following QUBO.\n",
    "\n",
    "\\begin{equation}\n",
    "E(\\mathbf{a},B;\\mathbf{q}) = \\mathbf{a}\\cdot\\mathbf{q} + B\\mathbf{q} = -q_0 - q_1 + 2q_0q_1 \n",
    "\\end{equation}\n",
    "\n",
    "where we have \n",
    "\\begin{equation}\n",
    "\\mathbf{a} = (a_0,a_1) = (-1,-1)\n",
    "\\end{equation}\n",
    "and \n",
    "\\begin{equation}\n",
    "B = \\begin{bmatrix}\n",
    "B_{00} & B_{01}\\\\\n",
    "B_{10} & B_{11}\n",
    "\\end{bmatrix} = \\begin{bmatrix}\n",
    "0 & 2\\\\\n",
    "0 & 0\n",
    "\\end{bmatrix}\n",
    "\\end{equation}\n",
    "\n",
    "We want to find the binary vector $\\mathbf{q} = (q_0,q_1)$ that minimizes $E$. Let us do this with dimod."
   ]
  },
  {
   "cell_type": "code",
   "execution_count": 36,
   "metadata": {},
   "outputs": [
    {
     "name": "stdout",
     "output_type": "stream",
     "text": [
      "sample:  {0: 1, 1: 0} \t energy:  -1.0\n",
      "sample:  {0: 0, 1: 1} \t energy:  -1.0\n",
      "sample:  {0: 0, 1: 0} \t energy:  0.0\n",
      "sample:  {0: 1, 1: 1} \t energy:  0.0\n"
     ]
    }
   ],
   "source": [
    "import dimod\n",
    "qubo = dimod.BinaryQuadraticModel({0: -1, 1: -1}, {(0, 1): 2}, 0.0, dimod.BINARY)  \n",
    "qubo_exact_response = dimod.ExactSolver().sample(qubo)\n",
    "for sample, energy in qubo_exact_response.data(['sample', 'energy']): \n",
    "    print(\"sample: \", sample, \"\\t\",\"energy: \", energy)"
   ]
  },
  {
   "cell_type": "markdown",
   "metadata": {},
   "source": [
    "In the code snippet above, we have used the `ExactSolver` sampler to find the energy by brute force of all possible combinations. Evidently, this will quickly become infeasible as the dimensionality of the QUBO grows. So let us investigate what other possible samplers we have. We can use Python's introspection tools to find a little bit more about the `dimod` model. Bellow we print the methods, attributes and functions contained in `dimod`."
   ]
  },
  {
   "cell_type": "code",
   "execution_count": 15,
   "metadata": {},
   "outputs": [
    {
     "data": {
      "text/plain": [
       "'BINARY, BQM, BinaryPolynomial, BinaryQuadraticModel, BinaryQuadraticModelSizeError, BinaryQuadraticModelStructureError, BinaryQuadraticModelValueError, ComposedPolySampler, ComposedSampler, Composite, ExactSolver, FixedVariableComposite, HigherOrderComposite, InvalidComposition, InvalidSampler, MappingError, NullSampler, PolySampler, PolyScaleComposite, PolyTruncateComposite, RandomSampler, Response, RoofDualityComposite, SPIN, SampleSet, Sampler, ScaleComposite, SimulatedAnnealingSampler, SpinReversalTransformComposite, StructureComposite, Structured, TrackingComposite, TruncateComposite, Vartype, WriteableError, _, __author__, __authoremail__, __builtins__, __cached__, __description__, __doc__, __file__, __loader__, __name__, __package__, __path__, __spec__, __version__, absolute_import, as_samples, as_vartype, binary_quadratic_model, bqm_structured, child_structure_dfs, compatibility23, composite, composites, concatenate, core, decorators, dimod, exact_solver, exceptions, fix_variables, fixedvariable, generators, higherorder, higherordercomposites, ising_energy, ising_to_qubo, make_quadratic, meta, null_sampler, package_info, poly_energies, poly_energy, polysampler, qubo_energy, qubo_to_ising, random_sampler, reference, response, roof_duality, roofduality, sampler, samplers, sampleset, scalecomposite, serialization, set_printoptions, simulated_annealing, spin_transform, structure, structured, testing, tracking, truncatecomposite, utilities, variables, vartypes, views'"
      ]
     },
     "execution_count": 15,
     "metadata": {},
     "output_type": "execute_result"
    }
   ],
   "source": [
    "\", \".join(dir(dimod))"
   ]
  },
  {
   "cell_type": "markdown",
   "metadata": {},
   "source": [
    "From the list above, we see that several classes like `RandomSampler` and `SimulatedAnnealingSampler` are available for sampling. We can skip Google for a while and again use Python's introspection capabilities to learn a little about the `SimulatedAnnealingSampler` class."
   ]
  },
  {
   "cell_type": "code",
   "execution_count": 19,
   "metadata": {},
   "outputs": [
    {
     "name": "stdout",
     "output_type": "stream",
     "text": [
      "Help on class SimulatedAnnealingSampler in module dimod.reference.samplers.simulated_annealing:\n",
      "\n",
      "class SimulatedAnnealingSampler(dimod.core.sampler.Sampler)\n",
      " |  A simple simulated annealing sampler for testing and debugging code.\n",
      " |  \n",
      " |  Examples:\n",
      " |      This example solves a two-variable Ising model.\n",
      " |  \n",
      " |      >>> h = {'a': -0.5, 'b': 1.0}\n",
      " |      >>> J = {('a', 'b'): -1.5}\n",
      " |      >>> sampleset = dimod.SimulatedAnnealingSampler().sample_ising(h, J)\n",
      " |  \n",
      " |  Method resolution order:\n",
      " |      SimulatedAnnealingSampler\n",
      " |      dimod.core.sampler.Sampler\n",
      " |      builtins.object\n",
      " |  \n",
      " |  Methods defined here:\n",
      " |  \n",
      " |  __init__(self)\n",
      " |      Initialize self.  See help(type(self)) for accurate signature.\n",
      " |  \n",
      " |  sample(self, bqm, beta_range=None, num_reads=10, num_sweeps=1000)\n",
      " |      Sample from low-energy spin states using simulated annealing.\n",
      " |      \n",
      " |      Args:\n",
      " |          bqm (:obj:`.BinaryQuadraticModel`):\n",
      " |              Binary quadratic model to be sampled from.\n",
      " |      \n",
      " |          beta_range (tuple, optional): Beginning and end of the beta schedule\n",
      " |              (beta is the inverse temperature) as a 2-tuple. The schedule is applied\n",
      " |              linearly in beta. Default is chosen based on the total bias associated\n",
      " |              with each node.\n",
      " |      \n",
      " |          num_reads (int, optional, default=10):\n",
      " |              Number of reads. Each sample is the result of a single run of\n",
      " |              the simulated annealing algorithm.\n",
      " |      \n",
      " |          num_sweeps (int, optional, default=1000):\n",
      " |              Number of sweeps or steps.\n",
      " |      \n",
      " |      Returns:\n",
      " |          :obj:`.SampleSet`\n",
      " |      \n",
      " |      Note:\n",
      " |          This is a reference implementation, not optimized for speed\n",
      " |          and therefore not an appropriate sampler for benchmarking.\n",
      " |  \n",
      " |  ----------------------------------------------------------------------\n",
      " |  Data and other attributes defined here:\n",
      " |  \n",
      " |  __abstractmethods__ = frozenset()\n",
      " |  \n",
      " |  parameters = None\n",
      " |  \n",
      " |  properties = None\n",
      " |  \n",
      " |  ----------------------------------------------------------------------\n",
      " |  Methods inherited from dimod.core.sampler.Sampler:\n",
      " |  \n",
      " |  sample_ising(self, h, J, **parameters)\n",
      " |      Sample from an Ising model using the implemented sample method.\n",
      " |      \n",
      " |      This method is inherited from the :class:`.Sampler` base class.\n",
      " |      \n",
      " |      Converts the Ising model into a :obj:`.BinaryQuadraticModel` and then\n",
      " |      calls :meth:`.sample`.\n",
      " |      \n",
      " |      Args:\n",
      " |          h (dict/list):\n",
      " |              Linear biases of the Ising problem. If a dict, should be of the\n",
      " |              form `{v: bias, ...}` where is a spin-valued variable and `bias`\n",
      " |              is its associated bias. If a list, it is treated as a list of\n",
      " |              biases where the indices are the variable labels.\n",
      " |      \n",
      " |          J (dict[(variable, variable), bias]):\n",
      " |              Quadratic biases of the Ising problem.\n",
      " |      \n",
      " |          **kwargs:\n",
      " |              See the implemented sampling for additional keyword definitions.\n",
      " |      \n",
      " |      Returns:\n",
      " |          :obj:`.SampleSet`\n",
      " |      \n",
      " |      See also:\n",
      " |          :meth:`.sample`, :meth:`.sample_qubo`\n",
      " |  \n",
      " |  sample_qubo(self, Q, **parameters)\n",
      " |      Sample from a QUBO using the implemented sample method.\n",
      " |      \n",
      " |      This method is inherited from the :class:`.Sampler` base class.\n",
      " |      \n",
      " |      Converts the QUBO into a :obj:`.BinaryQuadraticModel` and then\n",
      " |      calls :meth:`.sample`.\n",
      " |      \n",
      " |      Args:\n",
      " |          Q (dict):\n",
      " |              Coefficients of a quadratic unconstrained binary optimization\n",
      " |              (QUBO) problem. Should be a dict of the form `{(u, v): bias, ...}`\n",
      " |              where `u`, `v`, are binary-valued variables and `bias` is their\n",
      " |              associated coefficient.\n",
      " |      \n",
      " |          **kwargs:\n",
      " |              See the implemented sampling for additional keyword definitions.\n",
      " |      \n",
      " |      Returns:\n",
      " |          :obj:`.SampleSet`\n",
      " |      \n",
      " |      See also:\n",
      " |          :meth:`.sample`, :meth:`.sample_ising`\n",
      " |  \n",
      " |  ----------------------------------------------------------------------\n",
      " |  Data descriptors inherited from dimod.core.sampler.Sampler:\n",
      " |  \n",
      " |  __dict__\n",
      " |      dictionary for instance variables (if defined)\n",
      " |  \n",
      " |  __weakref__\n",
      " |      list of weak references to the object (if defined)\n",
      "\n"
     ]
    }
   ],
   "source": [
    "help(dimod.SimulatedAnnealingSampler)"
   ]
  },
  {
   "cell_type": "markdown",
   "metadata": {},
   "source": [
    "This is cool, the `SimulatedAnnealingSampler` contains a method `sample` that accepts parameters such as the inverse temperature $\\beta$. Let us run this sampler."
   ]
  },
  {
   "cell_type": "code",
   "execution_count": 34,
   "metadata": {},
   "outputs": [
    {
     "name": "stdout",
     "output_type": "stream",
     "text": [
      "sample:  {0: 1, 1: 0} energy:  -1.0\n",
      "sample:  {0: 0, 1: 1} energy:  -1.0\n",
      "sample:  {0: 0, 1: 1} energy:  -1.0\n",
      "sample:  {0: 1, 1: 0} energy:  -1.0\n",
      "sample:  {0: 1, 1: 0} energy:  -1.0\n",
      "sample:  {0: 0, 1: 1} energy:  -1.0\n",
      "sample:  {0: 0, 1: 1} energy:  -1.0\n",
      "sample:  {0: 0, 1: 1} energy:  -1.0\n",
      "sample:  {0: 1, 1: 1} energy:  0.0\n",
      "sample:  {0: 1, 1: 1} energy:  0.0\n"
     ]
    }
   ],
   "source": [
    "qubo_simulated_annealing_response = dimod.SimulatedAnnealingSampler().sample(qubo)\n",
    "for sample, energy in qubo_simulated_annealing_response.data(['sample', 'energy']): \n",
    "    print(\"sample: \", sample, \"energy: \", energy)"
   ]
  },
  {
   "cell_type": "markdown",
   "metadata": {},
   "source": [
    "Note that we got 10 samples, since that is the default value of the `num_reads` parameter. \n",
    "\n",
    "Now let us solve the same quadratic optimization problem in the Ising formulation. The QUBO is easily written as an Ising Hamiltonian via the transformation\n",
    "\n",
    "\\begin{equation}\n",
    "\\sigma_i = 2q_i - 1,\n",
    "\\end{equation}\n",
    "\n",
    "so the corresponding Ising problem is \n",
    "\n",
    "\\begin{equation}\n",
    "H(\\mathbf{h},\\text{J};\\mathbf{\\sigma}) = -\\mathbf{h}\\cdot\\mathbf{\\sigma} - J\\mathbf{\\sigma} = \\frac{1}{2}(\\sigma_0\\sigma_1 - 1)\n",
    "\\end{equation}\n",
    "\n",
    "so we have\n",
    "\n",
    "\\begin{equation}\n",
    "\\mathbf{h} = (h_0, h_1) = (0,0)\n",
    "\\end{equation}\n",
    "\n",
    "and \n",
    "\n",
    "\\begin{equation}\n",
    "J = \\begin{bmatrix}\n",
    "J_{00} & J_{01}\\\\\n",
    "J_{10} & J_{11}\n",
    "\\end{bmatrix} = \\begin{bmatrix}\n",
    "0 & \\frac{1}{2}\\\\\n",
    "0 & 0\n",
    "\\end{bmatrix}\n",
    "\\end{equation},\n",
    "\n",
    "with an offset term of $-\\frac{1}{2}$. The code snippet below solves this Ising problem exactly.\n",
    "\n",
    "\n"
   ]
  },
  {
   "cell_type": "code",
   "execution_count": 39,
   "metadata": {},
   "outputs": [
    {
     "name": "stdout",
     "output_type": "stream",
     "text": [
      "sample:  {0: 1, 1: -1} \t energy:  -1.0\n",
      "sample:  {0: -1, 1: 1} \t energy:  -1.0\n",
      "sample:  {0: -1, 1: -1} \t energy:  0.0\n",
      "sample:  {0: 1, 1: 1} \t energy:  0.0\n"
     ]
    }
   ],
   "source": [
    "ising = dimod.BinaryQuadraticModel({0: 0, 1: 0}, {(0, 1): 0.5}, -0.5, dimod.SPIN)  \n",
    "ising_exact_response = dimod.ExactSolver().sample(ising)\n",
    "for sample, energy in ising_exact_response.data(['sample', 'energy']): \n",
    "    print(\"sample: \", sample, \"\\t\", \"energy: \", energy)"
   ]
  },
  {
   "cell_type": "markdown",
   "metadata": {},
   "source": [
    "## The minorminer module"
   ]
  },
  {
   "cell_type": "code",
   "execution_count": null,
   "metadata": {},
   "outputs": [],
   "source": []
  },
  {
   "cell_type": "code",
   "execution_count": 2,
   "metadata": {},
   "outputs": [],
   "source": [
    "import dwave_networkx as dnx"
   ]
  },
  {
   "cell_type": "code",
   "execution_count": null,
   "metadata": {},
   "outputs": [],
   "source": [
    "[minorminer](https://docs.ocean.dwavesys.com/projects/minorminer/en/latest/index.html)"
   ]
  }
 ],
 "metadata": {
  "kernelspec": {
   "display_name": "Python 3",
   "language": "python",
   "name": "python3"
  },
  "language_info": {
   "codemirror_mode": {
    "name": "ipython",
    "version": 3
   },
   "file_extension": ".py",
   "mimetype": "text/x-python",
   "name": "python",
   "nbconvert_exporter": "python",
   "pygments_lexer": "ipython3",
   "version": "3.6.8"
  },
  "varInspector": {
   "cols": {
    "lenName": 16,
    "lenType": 16,
    "lenVar": 40
   },
   "kernels_config": {
    "python": {
     "delete_cmd_postfix": "",
     "delete_cmd_prefix": "del ",
     "library": "var_list.py",
     "varRefreshCmd": "print(var_dic_list())"
    },
    "r": {
     "delete_cmd_postfix": ") ",
     "delete_cmd_prefix": "rm(",
     "library": "var_list.r",
     "varRefreshCmd": "cat(var_dic_list()) "
    }
   },
   "types_to_exclude": [
    "module",
    "function",
    "builtin_function_or_method",
    "instance",
    "_Feature"
   ],
   "window_display": false
  }
 },
 "nbformat": 4,
 "nbformat_minor": 2
}
