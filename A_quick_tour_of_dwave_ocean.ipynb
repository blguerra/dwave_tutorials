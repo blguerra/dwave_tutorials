{
 "cells": [
  {
   "cell_type": "markdown",
   "metadata": {},
   "source": [
    "# A quick tour of DWave Ocean\n",
    "\n",
    "In this first notebook we introduce some of the main tools in the Ocean library for programming the Dwave quantum computer. We start with a (very) brief discussion of quantum annealing then move on to introduce two important modules of the Ocean library: the dimod and minorminer modules. At the end of the notebook, useful references that dive deeper in the topics discussed here are presented. "
   ]
  },
  {
   "cell_type": "markdown",
   "metadata": {},
   "source": [
    "## Quantum Annealing\n",
    "\n",
    "The idea behind Quantum Annealing is to map an optimization problem to a Hamiltonian on an Ising lattice of the form\n",
    "\n",
    "\\begin{equation}\n",
    "H(\\mathbf{\\sigma}) = -\\sum J_{ij}\\sigma_{i}\\sigma_{j} - \\sum h_i\\sigma_i, \\quad \\sigma_i = \\pm 1.\n",
    "\\end{equation}\n",
    "\n",
    "Finding the minimum energy of a general Ising lattice Hamiltonian such as the one above consists in determining the set of $\\sigma_i$s that minimize the Hamiltonian $H$. Thus problem is known to be [NP-hard](https://en.wikipedia.org/wiki/NP-hardness). In the mathematical optimization community, discrete unconstrained optimization problems formulated in terms of Ising Hamiltonians are known as Quadratic Unconstrained Optimization problems, or [QUBOs](https://en.wikipedia.org/wiki/Quadratic_unconstrained_binary_optimization).\n",
    "\n",
    "Mapping a real world problem into an Ising lattice to be optimized in a DWave computer poses two main theoretical challenges:\n",
    "\n",
    "- 1. Finding the proper $J$ matrix and $\\mathbf{h}$ vector (Energy program);\n",
    "- 2. Connecting the qubits in the DWave hardware to produce $J$ and $\\mathbf{h}$ (Minor embedding).\n",
    "\n",
    "These two steps appear in the general workflow of quantum adiabatic computation dpicted in the nice picture from the paper <a href= \"https://journals.plos.org/plosone/article?id=10.1371/journal.pone.0208561\"><i>Open source software in quantum computing</i></a> by Fingerhuth, Babej and Wittek.\n",
    "\n",
    "<div style=\"text-align:center\"><img src=\"dwave_workflow.png\" >\n",
    "\n",
    "\n"
   ]
  },
  {
   "cell_type": "markdown",
   "metadata": {},
   "source": [
    "In this first notebook we shall not be very interested in the nasty details of the theory behind quantum annealers as much as in getting our hands dirty with the Python [Ocean](https://docs.ocean.dwavesys.com) library. In particular we shall focus on two key components of the Ocean suite: the `dimod` and the `minorminer` modules."
   ]
  },
  {
   "cell_type": "markdown",
   "metadata": {},
   "source": [
    "## The dimod module\n",
    "\n",
    "The [dimod](https://docs.ocean.dwavesys.com/projects/dimod/en/latest/index.html) module is the Ocean API for modelling binary quadratic optimization problems. It supports both Ising optimization (where $\\sigma_i = \\pm 1$) and QUBOs (where $q_i = 0,1$). Let us start with the following QUBO.\n",
    "\n",
    "\\begin{equation}\n",
    "E(\\mathbf{a},B;\\mathbf{q}) = \\mathbf{a}\\cdot\\mathbf{q} + B\\mathbf{q} = -q_0 - q_1 + 2q_0q_1 \n",
    "\\end{equation}\n",
    "\n",
    "where we have \n",
    "\\begin{equation}\n",
    "\\mathbf{a} = (a_0,a_1) = (-1,-1)\n",
    "\\end{equation}\n",
    "and \n",
    "\\begin{equation}\n",
    "B = \\begin{bmatrix}\n",
    "B_{00} & B_{01}\\\\\n",
    "B_{10} & B_{11}\n",
    "\\end{bmatrix} = \\begin{bmatrix}\n",
    "0 & 2\\\\\n",
    "0 & 0\n",
    "\\end{bmatrix}\n",
    "\\end{equation}\n",
    "\n",
    "We want to find the binary vector $\\mathbf{q} = (q_0,q_1)$ that minimizes $E$. Let us do this with dimod."
   ]
  },
  {
   "cell_type": "code",
   "execution_count": 12,
   "metadata": {},
   "outputs": [
    {
     "name": "stdout",
     "output_type": "stream",
     "text": [
      "sample:  {0: 1, 1: 0} \t energy:  -1.0\n",
      "sample:  {0: 0, 1: 1} \t energy:  -1.0\n",
      "sample:  {0: 0, 1: 0} \t energy:  0.0\n",
      "sample:  {0: 1, 1: 1} \t energy:  0.0\n"
     ]
    }
   ],
   "source": [
    "import dimod\n",
    "qubo = dimod.BinaryQuadraticModel({0: -1, 1: -1}, {(0, 1): 2}, 0.0, dimod.BINARY)  \n",
    "qubo_exact_response = dimod.ExactSolver().sample(qubo)\n",
    "for sample, energy in qubo_exact_response.data(['sample', 'energy']): \n",
    "    print(\"sample: \", sample, \"\\t\",\"energy: \", energy)"
   ]
  },
  {
   "cell_type": "markdown",
   "metadata": {},
   "source": [
    "In the code snippet above, we have used the `ExactSolver` sampler to find the energy by brute force of all possible combinations. Evidently, this will quickly become infeasible as the dimensionality of the QUBO grows. So let us investigate what other possible samplers we have. We can use Python's introspection tools to find a little bit more about the `dimod` model. Bellow we print the methods, attributes and functions contained in `dimod`."
   ]
  },
  {
   "cell_type": "code",
   "execution_count": 3,
   "metadata": {},
   "outputs": [
    {
     "data": {
      "text/plain": [
       "'BINARY, BQM, BinaryPolynomial, BinaryQuadraticModel, BinaryQuadraticModelSizeError, BinaryQuadraticModelStructureError, BinaryQuadraticModelValueError, ComposedPolySampler, ComposedSampler, Composite, ExactSolver, FixedVariableComposite, HigherOrderComposite, InvalidComposition, InvalidSampler, MappingError, NullSampler, PolySampler, PolyScaleComposite, PolyTruncateComposite, RandomSampler, Response, RoofDualityComposite, SPIN, SampleSet, Sampler, ScaleComposite, SimulatedAnnealingSampler, SpinReversalTransformComposite, StructureComposite, Structured, TrackingComposite, TruncateComposite, Vartype, WriteableError, _, __author__, __authoremail__, __builtins__, __cached__, __description__, __doc__, __file__, __loader__, __name__, __package__, __path__, __spec__, __version__, absolute_import, as_samples, as_vartype, binary_quadratic_model, bqm_structured, child_structure_dfs, compatibility23, composite, composites, concatenate, core, decorators, dimod, exact_solver, exceptions, fix_variables, fixedvariable, generators, higherorder, higherordercomposites, ising_energy, ising_to_qubo, make_quadratic, meta, null_sampler, package_info, poly_energies, poly_energy, polysampler, qubo_energy, qubo_to_ising, random_sampler, reference, response, roof_duality, roofduality, sampler, samplers, sampleset, scalecomposite, serialization, set_printoptions, simulated_annealing, spin_transform, structure, structured, testing, tracking, truncatecomposite, utilities, variables, vartypes, views'"
      ]
     },
     "execution_count": 3,
     "metadata": {},
     "output_type": "execute_result"
    }
   ],
   "source": [
    "\", \".join(dir(dimod))"
   ]
  },
  {
   "cell_type": "markdown",
   "metadata": {},
   "source": [
    "From the list above, we see that several classes like `RandomSampler` and `SimulatedAnnealingSampler` are available for sampling. We can skip Google for a while and again use Python's introspection capabilities to learn a little about the `SimulatedAnnealingSampler` class."
   ]
  },
  {
   "cell_type": "code",
   "execution_count": null,
   "metadata": {
    "scrolled": false
   },
   "outputs": [],
   "source": [
    "help(dimod.SimulatedAnnealingSampler)"
   ]
  },
  {
   "cell_type": "markdown",
   "metadata": {},
   "source": [
    "This is cool, the `SimulatedAnnealingSampler` contains a method `sample` that accepts parameters such as the inverse temperature $\\beta$. Let us run this sampler."
   ]
  },
  {
   "cell_type": "code",
   "execution_count": 5,
   "metadata": {},
   "outputs": [
    {
     "name": "stdout",
     "output_type": "stream",
     "text": [
      "sample:  {0: 1, 1: 0} energy:  -1.0\n",
      "sample:  {0: 1, 1: 0} energy:  -1.0\n",
      "sample:  {0: 0, 1: 1} energy:  -1.0\n",
      "sample:  {0: 1, 1: 0} energy:  -1.0\n",
      "sample:  {0: 0, 1: 1} energy:  -1.0\n",
      "sample:  {0: 0, 1: 0} energy:  0.0\n",
      "sample:  {0: 1, 1: 1} energy:  0.0\n",
      "sample:  {0: 1, 1: 1} energy:  0.0\n",
      "sample:  {0: 1, 1: 1} energy:  0.0\n",
      "sample:  {0: 1, 1: 1} energy:  0.0\n"
     ]
    }
   ],
   "source": [
    "qubo_simulated_annealing_response = dimod.SimulatedAnnealingSampler().sample(qubo)\n",
    "for sample, energy in qubo_simulated_annealing_response.data(['sample', 'energy']): \n",
    "    print(\"sample: \", sample, \"energy: \", energy)"
   ]
  },
  {
   "cell_type": "markdown",
   "metadata": {},
   "source": [
    "Note that we got 10 samples, since that is the default value of the `num_reads` parameter. \n",
    "\n",
    "Now let us solve the same quadratic optimization problem in the Ising formulation. The QUBO is easily written as an Ising Hamiltonian via the transformation\n",
    "\n",
    "\\begin{equation}\n",
    "\\sigma_i = 2q_i - 1,\n",
    "\\end{equation}\n",
    "\n",
    "so the corresponding Ising problem is \n",
    "\n",
    "\\begin{equation}\n",
    "H(\\mathbf{h},\\text{J};\\mathbf{\\sigma}) = -\\mathbf{h}\\cdot\\mathbf{\\sigma} - J\\mathbf{\\sigma} = \\frac{1}{2}(\\sigma_0\\sigma_1 - 1)\n",
    "\\end{equation}\n",
    "\n",
    "so we have\n",
    "\n",
    "\\begin{equation}\n",
    "\\mathbf{h} = (h_0, h_1) = (0,0)\n",
    "\\end{equation}\n",
    "\n",
    "and \n",
    "\n",
    "\\begin{equation}\n",
    "J = \\begin{bmatrix}\n",
    "J_{00} & J_{01}\\\\\n",
    "J_{10} & J_{11}\n",
    "\\end{bmatrix} = \\begin{bmatrix}\n",
    "0 & \\frac{1}{2}\\\\\n",
    "0 & 0\n",
    "\\end{bmatrix},\n",
    "\\end{equation}\n",
    "\n",
    "with an offset term of $-\\frac{1}{2}$. The code snippet below solves this Ising problem exactly.\n",
    "\n",
    "\n",
    "\n",
    "\n"
   ]
  },
  {
   "cell_type": "code",
   "execution_count": 6,
   "metadata": {},
   "outputs": [
    {
     "name": "stdout",
     "output_type": "stream",
     "text": [
      "sample:  {0: 1, 1: -1} \t energy:  -1.0\n",
      "sample:  {0: -1, 1: 1} \t energy:  -1.0\n",
      "sample:  {0: -1, 1: -1} \t energy:  0.0\n",
      "sample:  {0: 1, 1: 1} \t energy:  0.0\n"
     ]
    }
   ],
   "source": [
    "ising = dimod.BinaryQuadraticModel({0: 0, 1: 0}, {(0, 1): 0.5}, -0.5, dimod.SPIN)  \n",
    "ising_exact_response = dimod.ExactSolver().sample(ising)\n",
    "for sample, energy in ising_exact_response.data(['sample', 'energy']): \n",
    "    print(\"sample: \", sample, \"\\t\", \"energy: \", energy)"
   ]
  },
  {
   "cell_type": "markdown",
   "metadata": {},
   "source": [
    "## The minorminer module\n",
    "\n",
    "The [minorminer](https://docs.ocean.dwavesys.com/projects/minorminer/en/latest/index.html) library is Ocean's tool for minor embedding. The problem of minor embedding consists in finding a map that embeds a minor graph into the target graph. Quoting the Wikipedia article on [minors](https://en.wikipedia.org/wiki/Graph_minor), an undirected graph $H$ is called a minor of the graph $G$ if $H$ can be formed from $G$ by deleting edges and vertices and by contracting edges. This mathematical problem is intimately related to quantum annealing, since the connectivity structure of an optimization problem (the minor) has to be mapped into the connectivity structure of the quantum hardware (the target graph). The `minorminer` implementation is based on the algorithms  Just as we did with the dimod module, let us go through these concepts using the [examples](https://docs.ocean.dwavesys.com/projects/minorminer/en/latest/intro.html#examples) in the documentation.\n",
    "\n",
    "### Example 1: Embedding the complete triangular graph $K_3$ into a a square target.\n",
    "\n",
    "This problem is described in the picture below, extracted from Ocean's `minorminer` documentation.\n",
    "\n",
    "<div style=\"text-align:center\"><img src=\"Embedding_TriangularSquare.png\">\n",
    "\n"
   ]
  },
  {
   "cell_type": "markdown",
   "metadata": {},
   "source": [
    "The first triangular graph (the [complete graph](https://en.wikipedia.org/wiki/Complete_graph) $K_3$) is the minor we wish to embed in the square graph in blue. At the rightmost spot, we see such an embedding. Let us perform it using `minorminer`"
   ]
  },
  {
   "cell_type": "code",
   "execution_count": 3,
   "metadata": {},
   "outputs": [],
   "source": [
    "from minorminer import find_embedding"
   ]
  },
  {
   "cell_type": "code",
   "execution_count": 8,
   "metadata": {},
   "outputs": [
    {
     "name": "stdout",
     "output_type": "stream",
     "text": [
      "{0: [2, 3], 1: [0], 2: [1]}\n"
     ]
    }
   ],
   "source": [
    "# Defining graphs\n",
    "triangle = [(0, 1), (1, 2), (2, 0)]\n",
    "square = [(0, 1), (1, 2), (2, 3), (3, 0)]\n",
    "\n",
    "# Find an assignment of sets of square variables to the triangle variables\n",
    "embedding = find_embedding(triangle, square, random_seed=10)\n",
    "print(embedding)\n",
    "# We don't know which variables will be assigned where, here are a\n",
    "# couple possible outputs:\n",
    "# [[0, 1], [2], [3]]\n",
    "# [[3], [1, 0], [2]]\n"
   ]
  },
  {
   "cell_type": "markdown",
   "metadata": {},
   "source": [
    "We note that we generate a graph in `minorminer` by passing a list of edges (each tuple represents an edge connecting two vertices). The embedding is returned as a Python dictionary. The result printed above is nice and correct, but quite boring. We would be much nicer if we could visualize these graphs somehow. Fortunalety, we can do this using the [dwave_networkx](https://docs.ocean.dwavesys.com/projects/dwave-networkx/en/latest/intro.html) module. This module implements graph theory algorithms optimized for the Chimera and Pegasus architectures used by Dwave quantum computers. Let us visualize a chimera graph."
   ]
  },
  {
   "cell_type": "code",
   "execution_count": 2,
   "metadata": {},
   "outputs": [
    {
     "name": "stderr",
     "output_type": "stream",
     "text": [
      "/home/nahum/anaconda3/lib/python3.6/site-packages/networkx/drawing/nx_pylab.py:611: MatplotlibDeprecationWarning: isinstance(..., numbers.Number)\n",
      "  if cb.is_numlike(alpha):\n"
     ]
    },
    {
     "data": {
      "text/plain": [
       "<Figure size 640x480 with 1 Axes>"
      ]
     },
     "metadata": {},
     "output_type": "display_data"
    }
   ],
   "source": [
    "import dwave_networkx as dnx\n",
    "import matplotlib.pyplot as plt\n",
    "connectivity_structure = dnx.chimera_graph(2, 2)\n",
    "dnx.draw_chimera(connectivity_structure)\n",
    "plt.show()"
   ]
  },
  {
   "cell_type": "markdown",
   "metadata": {},
   "source": [
    "When solving a problem on a DWave computer, we shall typically have to embed a given minor graph on a chimera graph like the one above. For example, let us consider the task of embedding the complete graph with nine vertices $K_9$ in the chimera graph above. The $K_9$ graph looks like this."
   ]
  },
  {
   "cell_type": "code",
   "execution_count": 1,
   "metadata": {},
   "outputs": [
    {
     "ename": "NameError",
     "evalue": "name 'plt' is not defined",
     "output_type": "error",
     "traceback": [
      "\u001b[0;31m--------------------------------------------------------------------------\u001b[0m",
      "\u001b[0;31mNameError\u001b[0m                                Traceback (most recent call last)",
      "\u001b[0;32m<ipython-input-1-abcebb437072>\u001b[0m in \u001b[0;36m<module>\u001b[0;34m\u001b[0m\n\u001b[1;32m      1\u001b[0m \u001b[0;32mimport\u001b[0m \u001b[0mnetworkx\u001b[0m \u001b[0;32mas\u001b[0m \u001b[0mnx\u001b[0m\u001b[0;34m\u001b[0m\u001b[0;34m\u001b[0m\u001b[0m\n\u001b[1;32m      2\u001b[0m \u001b[0mk9\u001b[0m \u001b[0;34m=\u001b[0m \u001b[0mnx\u001b[0m\u001b[0;34m.\u001b[0m\u001b[0mcomplete_graph\u001b[0m\u001b[0;34m(\u001b[0m\u001b[0;36m4\u001b[0m\u001b[0;34m)\u001b[0m\u001b[0;34m\u001b[0m\u001b[0;34m\u001b[0m\u001b[0m\n\u001b[0;32m----> 3\u001b[0;31m \u001b[0mplt\u001b[0m\u001b[0;34m.\u001b[0m\u001b[0maxis\u001b[0m\u001b[0;34m(\u001b[0m\u001b[0;34m'off'\u001b[0m\u001b[0;34m)\u001b[0m\u001b[0;34m\u001b[0m\u001b[0;34m\u001b[0m\u001b[0m\n\u001b[0m\u001b[1;32m      4\u001b[0m \u001b[0mnx\u001b[0m\u001b[0;34m.\u001b[0m\u001b[0mdraw_networkx\u001b[0m\u001b[0;34m(\u001b[0m\u001b[0mk9\u001b[0m\u001b[0;34m,\u001b[0m \u001b[0mwith_labels\u001b[0m\u001b[0;34m=\u001b[0m\u001b[0;32mFalse\u001b[0m\u001b[0;34m)\u001b[0m\u001b[0;34m\u001b[0m\u001b[0;34m\u001b[0m\u001b[0m\n\u001b[1;32m      5\u001b[0m \u001b[0mplt\u001b[0m\u001b[0;34m.\u001b[0m\u001b[0mshow\u001b[0m\u001b[0;34m(\u001b[0m\u001b[0;34m)\u001b[0m\u001b[0;34m\u001b[0m\u001b[0;34m\u001b[0m\u001b[0m\n",
      "\u001b[0;31mNameError\u001b[0m: name 'plt' is not defined"
     ]
    }
   ],
   "source": [
    "import networkx as nx\n",
    "k9 = nx.complete_graph(4)\n",
    "plt.axis('off') \n",
    "nx.draw_networkx(k9, with_labels=False)\n",
    "plt.show()"
   ]
  },
  {
   "cell_type": "markdown",
   "metadata": {},
   "source": [
    "We have used Python's `networkx` module (on which Ocean's `dwave_networkx` is based) to visualize the $K_9$ graph. So now let us embed it in the chimera graph!"
   ]
  },
  {
   "cell_type": "code",
   "execution_count": 17,
   "metadata": {},
   "outputs": [
    {
     "name": "stdout",
     "output_type": "stream",
     "text": [
      "embedded_k9:  {0: [23, 18], 1: [19, 20], 2: [17], 3: [22]}\n"
     ]
    }
   ],
   "source": [
    "embedded_k9 = find_embedding(k9.edges(), connectivity_structure.edges(),random_seed=42)\n",
    "print(\"embedded_k9: \", embedded_k9)"
   ]
  },
  {
   "cell_type": "code",
   "execution_count": 18,
   "metadata": {},
   "outputs": [
    {
     "data": {
      "image/png": "[encoded data removed]",
      "text/plain": [
       "<Figure size 432x288 with 1 Axes>"
      ]
     },
     "metadata": {},
     "output_type": "display_data"
    }
   ],
   "source": [
    "dnx.draw_chimera_embedding(connectivity_structure, embedded_k9)\n",
    "plt.show()"
   ]
  },
  {
   "cell_type": "markdown",
   "metadata": {},
   "source": [
    "Note the beautiful color scheme that arises from the embedding. Nodes with the same color in the chimera graph correspond to the same node in the minor (here, the $K_9$ graph). Thus we have nine different colors in the graph above.\n",
    "\n",
    "One important point to note about these minor embeddings is the length of chains in the embedding. In the DWave hardware, these chains are strong couplings between nodes (twice as strong as the couplings that the user can force on the hardware). Evidently, the longer a chain, the less stable it will be, so embeddings with shorter chains are generally better.\n"
   ]
  },
  {
   "cell_type": "markdown",
   "metadata": {},
   "source": [
    "## Embedding a AND gate on d-wave\n",
    "\n",
    "D-wave does not support natively $K_3$ graphs, so you can not implement a AND gate. In order to do this you have to represent as a penalty model:\n",
    "\\begin{equation}\n",
    "x_1 x_2 \\ -2 (x_1 \\ + x_2)x_3 + 3 x_3 \n",
    "\\end{equation}\n",
    "\n",
    "This penalty model can in turn be represented as the QUBO,\n",
    "\\begin{equation}\n",
    "E(a_i,b_i;x_i) = 3 x_3 + x_1 x_2 - 2 x_1 x_3 - 2 x_2 x_3\n",
    "\\end{equation}\n",
    "which is a fully connected K3 graph.\n",
    "So in order to achieve this we have to do a minor embedding.\n",
    "<div style=\"text-align:center\"><img src=\"Embedding_Chimera_AND.png\">"
   ]
  },
  {
   "cell_type": "markdown",
   "metadata": {},
   "source": [
    "We have already found a embedding: \n",
    "\\begin{equation}\n",
    "x_1 \\rightarrow 0 \\ \\ \\ , \\ \\ \\ x_2 \\rightarrow 1 \\ \\ \\ , \\ \\ \\ z \\rightarrow (2, 3)\n",
    "\\end{equation}\n"
   ]
  },
  {
   "cell_type": "code",
   "execution_count": 14,
   "metadata": {},
   "outputs": [],
   "source": [
    "# Ising problem for a triangular source graph\n",
    "h = {}\n",
    "J = {('x1', 'x2'): 1, ('x1', 'z'): -2, ('x2', 'z'): -2, ('z', 'z'): 3}\n",
    "# Target graph is a square graph\n",
    "target = nx.cycle_graph(4)"
   ]
  },
  {
   "cell_type": "markdown",
   "metadata": {},
   "source": [
    "We have to install the dwave system package [dwave-system](https://docs.ocean.dwavesys.com/projects/system/en/latest/intro.html), but this will only work with real d-wave hardware"
   ]
  },
  {
   "cell_type": "code",
   "execution_count": 11,
   "metadata": {},
   "outputs": [
    {
     "ename": "AttributeError",
     "evalue": "module 'dimod' has no attribute 'embed_ising'",
     "output_type": "error",
     "traceback": [
      "\u001b[0;31m--------------------------------------------------------------------------\u001b[0m",
      "\u001b[0;31mAttributeError\u001b[0m                           Traceback (most recent call last)",
      "\u001b[0;32m<ipython-input-11-31765e3234e7>\u001b[0m in \u001b[0;36m<module>\u001b[0;34m\u001b[0m\n\u001b[1;32m      3\u001b[0m \u001b[0membedding\u001b[0m \u001b[0;34m=\u001b[0m \u001b[0;34m{\u001b[0m\u001b[0;34m'x1'\u001b[0m\u001b[0;34m:\u001b[0m \u001b[0;34m{\u001b[0m\u001b[0;36m0\u001b[0m\u001b[0;34m}\u001b[0m\u001b[0;34m,\u001b[0m \u001b[0;34m'x2'\u001b[0m\u001b[0;34m:\u001b[0m \u001b[0;34m{\u001b[0m\u001b[0;36m1\u001b[0m\u001b[0;34m}\u001b[0m\u001b[0;34m,\u001b[0m \u001b[0;34m'z'\u001b[0m\u001b[0;34m:\u001b[0m \u001b[0;34m{\u001b[0m\u001b[0;36m2\u001b[0m\u001b[0;34m,\u001b[0m \u001b[0;36m3\u001b[0m\u001b[0;34m}\u001b[0m\u001b[0;34m}\u001b[0m\u001b[0;34m\u001b[0m\u001b[0;34m\u001b[0m\u001b[0m\n\u001b[1;32m      4\u001b[0m \u001b[0;31m# Embed the Ising problem\u001b[0m\u001b[0;34m\u001b[0m\u001b[0;34m\u001b[0m\u001b[0;34m\u001b[0m\u001b[0m\n\u001b[0;32m----> 5\u001b[0;31m \u001b[0mtarget_h\u001b[0m\u001b[0;34m,\u001b[0m \u001b[0mtarget_J\u001b[0m \u001b[0;34m=\u001b[0m \u001b[0mdimod\u001b[0m\u001b[0;34m.\u001b[0m\u001b[0membed_ising\u001b[0m\u001b[0;34m(\u001b[0m\u001b[0mh\u001b[0m\u001b[0;34m,\u001b[0m \u001b[0mJ\u001b[0m\u001b[0;34m,\u001b[0m \u001b[0membedding\u001b[0m\u001b[0;34m,\u001b[0m \u001b[0mtarget\u001b[0m\u001b[0;34m)\u001b[0m\u001b[0;34m\u001b[0m\u001b[0;34m\u001b[0m\u001b[0m\n\u001b[0m\u001b[1;32m      6\u001b[0m \u001b[0mtarget_J\u001b[0m\u001b[0;34m[\u001b[0m\u001b[0;34m(\u001b[0m\u001b[0;36m0\u001b[0m\u001b[0;34m,\u001b[0m \u001b[0;36m1\u001b[0m\u001b[0;34m)\u001b[0m\u001b[0;34m]\u001b[0m \u001b[0;34m==\u001b[0m \u001b[0mJ\u001b[0m\u001b[0;34m[\u001b[0m\u001b[0;34m(\u001b[0m\u001b[0;34m'a'\u001b[0m\u001b[0;34m,\u001b[0m \u001b[0;34m'b'\u001b[0m\u001b[0;34m)\u001b[0m\u001b[0;34m]\u001b[0m\u001b[0;34m\u001b[0m\u001b[0;34m\u001b[0m\u001b[0m\n",
      "\u001b[0;31mAttributeError\u001b[0m: module 'dimod' has no attribute 'embed_ising'"
     ]
    }
   ],
   "source": [
    "import dwave\n",
    "# Embedding from source to target graph\n",
    "embedding = {'x1': {0}, 'x2': {1}, 'z': {2, 3}}\n",
    "# Embed the Ising problem\n",
    "target_h, target_J = dimod.embed_ising(h, J, embedding, target)\n",
    "target_J[(0, 1)] == J[('a', 'b')]"
   ]
  },
  {
   "cell_type": "markdown",
   "metadata": {},
   "source": [
    "## Project: Map coloring\n",
    "\n",
    "In this small project we use the `ocean` module to solve a classical graph problem: [map coloring](https://en.wikipedia.org/wiki/Map_coloring). The [DWave documentation](https://docs.ocean.dwavesys.com/en/latest/examples/map_kerberos.html#map-kerberos) will be our guide.\n",
    "\n",
    "<img src= \"us_map.png\">"
   ]
  },
  {
   "cell_type": "markdown",
   "metadata": {},
   "source": [
    "First we use a .adj file that contains the information of the neighbors of each state"
   ]
  },
  {
   "cell_type": "code",
   "execution_count": 90,
   "metadata": {},
   "outputs": [],
   "source": [
    "US = nx.read_adjlist('usa.adj', delimiter = ',') "
   ]
  },
  {
   "cell_type": "code",
   "execution_count": 91,
   "metadata": {
    "scrolled": true
   },
   "outputs": [
    {
     "data": {
      "image/png": "[encoded data removed]",
      "text/plain": [
       "<Figure size 432x288 with 1 Axes>"
      ]
     },
     "metadata": {
      "needs_background": "light"
     },
     "output_type": "display_data"
    }
   ],
   "source": [
    "plt.axis('off') \n",
    "nx.draw_networkx(US)\n",
    "plt.show()"
   ]
  },
  {
   "cell_type": "markdown",
   "metadata": {},
   "source": [
    "Using a CPU: (**It is not recommended to do this**)"
   ]
  },
  {
   "cell_type": "code",
   "execution_count": null,
   "metadata": {},
   "outputs": [],
   "source": [
    "sampler = ExactSolver()\n",
    "coloring = dnx.min_vertex_coloring(US, sampler, chromatic_ub=4)\n",
    "set(coloring.values())"
   ]
  },
  {
   "cell_type": "markdown",
   "metadata": {},
   "source": [
    "Sadly it is not possible to solve this using only a CPU, it is needed a QPU. Using cerberos we have the following code:"
   ]
  },
  {
   "cell_type": "code",
   "execution_count": null,
   "metadata": {},
   "outputs": [],
   "source": [
    "from hybrid.reference.kerberos import KerberosSampler\n",
    "coloring = dnx.min_vertex_coloring(US, sampler=KerberosSampler(), chromatic_ub=4, max_iter=10, convergence=3)\n",
    "set(coloring.values())"
   ]
  },
  {
   "cell_type": "code",
   "execution_count": null,
   "metadata": {},
   "outputs": [],
   "source": [
    "node_colors = [coloring.get(node) for node in US.nodes()]\n",
    "if dnx.is_vertex_coloring(US, coloring):  # adjust the next line if using a different map\n",
    "   nx.draw(G, pos=nx.shell_layout(US, nlist = [list(US.nodes)[x:x+10] for x in range(0, 50, 10)] + [[list(US.nodes)[50]]]), with_labels=True, node_color=node_colors, node_size=400, cmap=plt.cm.rainbow)\n",
    "plt.show()"
   ]
  },
  {
   "cell_type": "markdown",
   "metadata": {},
   "source": [
    "## Square Coloring"
   ]
  },
  {
   "cell_type": "markdown",
   "metadata": {},
   "source": [
    "We use the `ocean` module to solve Map colloring, since the previous example we were not able to solve because we don't have a QPU.\n",
    "<img src= \"coloring-2.gif\">"
   ]
  },
  {
   "cell_type": "code",
   "execution_count": 9,
   "metadata": {},
   "outputs": [
    {
     "data": {
      "image/png": "[encoded data removed]",
      "text/plain": [
       "<Figure size 432x288 with 1 Axes>"
      ]
     },
     "metadata": {
      "needs_background": "light"
     },
     "output_type": "display_data"
    }
   ],
   "source": [
    "SQ = nx.read_adjlist('Example.adj', delimiter= ',') \n",
    "plt.axis('off') \n",
    "nx.draw_networkx(SQ)\n",
    "plt.show()"
   ]
  },
  {
   "cell_type": "code",
   "execution_count": null,
   "metadata": {},
   "outputs": [],
   "source": [
    "from dimod.reference.samplers import ExactSolver\n",
    "sampler = ExactSolver()\n",
    "coloring = dnx.min_vertex_coloring(SQ, sampler, chromatic_ub=4)\n",
    "set(coloring.values())"
   ]
  },
  {
   "cell_type": "markdown",
   "metadata": {},
   "source": [
    "## Minimum Vertex Cover\n",
    "\n",
    "A vertex cover is a set of vertices such that each edge of the graph is incident with at least one vertex in the set. A minimum vertex cover is the vertex cover of smallest size. This is a classical Graph problem that is known to be NP Hard. It can be solved using the D-Wave system or using the CPU classical sampler.\n",
    "\n",
    "### Problem:\n",
    "Suppose we have a 10 node star graph and we want to know the minimum vertex cover for this graph."
   ]
  },
  {
   "cell_type": "code",
   "execution_count": 80,
   "metadata": {
    "scrolled": true
   },
   "outputs": [
    {
     "data": {
      "image/png": "[encoded data removed]",
      "text/plain": [
       "<Figure size 432x288 with 1 Axes>"
      ]
     },
     "metadata": {
      "needs_background": "light"
     },
     "output_type": "display_data"
    }
   ],
   "source": [
    "import networkx as nx\n",
    "s10 = nx.star_graph(10)\n",
    "plt.axis('off') \n",
    "nx.draw_networkx(s10, with_labels=False)\n",
    "plt.show()"
   ]
  },
  {
   "cell_type": "markdown",
   "metadata": {},
   "source": [
    "This time we will use our **CPU** to sample and solve the problem"
   ]
  },
  {
   "cell_type": "code",
   "execution_count": 81,
   "metadata": {},
   "outputs": [
    {
     "name": "stdout",
     "output_type": "stream",
     "text": [
      "[0]\n"
     ]
    }
   ],
   "source": [
    "from dimod.reference.samplers import ExactSolver\n",
    "import dwave_networkx as dnx\n",
    "sampler = ExactSolver()\n",
    "print(dnx.min_vertex_cover(s5, sampler))"
   ]
  },
  {
   "cell_type": "markdown",
   "metadata": {},
   "source": [
    "Let's solve using the **D-wave system**.\n",
    "\n",
    "It is used EmbeddingComposite() to do the minor embedding from our graph into the D-wave system"
   ]
  },
  {
   "cell_type": "code",
   "execution_count": null,
   "metadata": {},
   "outputs": [],
   "source": [
    "from dwave.system.samplers import DWaveSampler\n",
    "from dwave.system.composites import EmbeddingComposite\n",
    "sampler = EmbeddingComposite(DWaveSampler(endpoint='https://URL_to_my_D-Wave_system/', token='ABC-123456789012345678901234567890', solver='My_D-Wave_Solver'))\n",
    "print(dnx.min_vertex_cover(s5, sampler))"
   ]
  },
  {
   "cell_type": "markdown",
   "metadata": {},
   "source": [
    "Let's try to solve a more complicated system"
   ]
  },
  {
   "cell_type": "code",
   "execution_count": 83,
   "metadata": {},
   "outputs": [],
   "source": [
    "G = nx.Graph()\n",
    "G.add_nodes_from([1,2,3,4,5,6])\n",
    "G.add_edges_from([(1,2),(1,3),(2,3)]) \n",
    "G.add_edges_from([(3,4),(3,5),(3,6)])"
   ]
  },
  {
   "cell_type": "code",
   "execution_count": 84,
   "metadata": {
    "scrolled": true
   },
   "outputs": [
    {
     "name": "stderr",
     "output_type": "stream",
     "text": [
      "/home/nahum/anaconda3/lib/python3.6/site-packages/networkx/drawing/nx_pylab.py:611: MatplotlibDeprecationWarning: isinstance(..., numbers.Number)\n",
      "  if cb.is_numlike(alpha):\n"
     ]
    },
    {
     "data": {
      "image/png": "[encoded data removed]",
      "text/plain": [
       "<Figure size 432x288 with 1 Axes>"
      ]
     },
     "metadata": {
      "needs_background": "light"
     },
     "output_type": "display_data"
    }
   ],
   "source": [
    "plt.axis('off') \n",
    "nx.draw_networkx(G)\n",
    "plt.show()"
   ]
  },
  {
   "cell_type": "code",
   "execution_count": 85,
   "metadata": {},
   "outputs": [
    {
     "name": "stdout",
     "output_type": "stream",
     "text": [
      "[2, 3]\n"
     ]
    }
   ],
   "source": [
    "sampler = ExactSolver()\n",
    "print(dnx.min_vertex_cover(G, sampler))"
   ]
  }
 ],
 "metadata": {
  "kernelspec": {
   "display_name": ".Dwave",
   "language": "python",
   "name": ".dwave"
  },
  "language_info": {
   "codemirror_mode": {
    "name": "ipython",
    "version": 3
   },
   "file_extension": ".py",
   "mimetype": "text/x-python",
   "name": "python",
   "nbconvert_exporter": "python",
   "pygments_lexer": "ipython3",
   "version": "3.6.8"
  },
  "varInspector": {
   "cols": {
    "lenName": 16,
    "lenType": 16,
    "lenVar": 40
   },
   "kernels_config": {
    "python": {
     "delete_cmd_postfix": "",
     "delete_cmd_prefix": "del ",
     "library": "var_list.py",
     "varRefreshCmd": "print(var_dic_list())"
    },
    "r": {
     "delete_cmd_postfix": ") ",
     "delete_cmd_prefix": "rm(",
     "library": "var_list.r",
     "varRefreshCmd": "cat(var_dic_list()) "
    }
   },
   "types_to_exclude": [
    "module",
    "function",
    "builtin_function_or_method",
    "instance",
    "_Feature"
   ],
   "window_display": false
  }
 },
 "nbformat": 4,
 "nbformat_minor": 2
}
